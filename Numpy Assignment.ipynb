{
 "cells": [
  {
   "cell_type": "markdown",
   "id": "040818a5",
   "metadata": {},
   "source": [
    "Q1.What is a python library?Why do we use Python libraries?"
   ]
  },
  {
   "cell_type": "markdown",
   "id": "cc6f9de7",
   "metadata": {},
   "source": [
    "In the programming world, a library is a collection of precompiled codes that can be used later on in a program for some specific well-defined operations. Other than pre-compiled codes, a library may contain documentation, configuration data, message templates, classes, and values, etc.\n",
    "\n",
    "A Python library is a collection of related modules. It contains bundles of code that can be used repeatedly in different programs. It makes Python Programming simpler and convenient for the programmer.  Python libraries play a very vital role in fields of Machine Learning, Data Science, Data Visualization, etc.\n",
    "\n",
    "\n",
    "When developing large-size programs in Python, maintaining code modularity is essential. To facilitate code maintenance, we divide it into separate parts, which can be reused whenever necessary. This is where modules come into play in Python. Instead of duplicating code across different programs and increasing complexity, we encapsulate commonly used functions within modules. By importing these modules into our programs, we can access their functionality without having to rewrite the code. These interconnected modules are typically stored in libraries, and whenever we require a specific module, we import it from its corresponding library. Python's straightforward syntax simplifies this process; we simply use the import statement to include the desired module."
   ]
  },
  {
   "cell_type": "markdown",
   "id": "0f0b354f",
   "metadata": {},
   "source": [
    "Q2.What is the difference between Numpy array and List?   "
   ]
  },
  {
   "cell_type": "markdown",
   "id": "15af285d",
   "metadata": {},
   "source": [
    "Both NumPy arrays and Python lists are used to store collections of items, but they have distinct differences in terms of functionality, performance, and usage:\n",
    "\n",
    "1. Type Flexibility\n",
    "List: Python lists can store elements of different data types in the same list. For example, a list can contain integers, strings, floats, etc.\n",
    "NumPy Array: NumPy arrays are homogeneous, meaning all elements in a NumPy array must be of the same data type (e.g., all integers, all floats).\n",
    "\n",
    "2. Performance\n",
    "List: Python lists are slower for numerical operations because they are flexible and don't have the same level of optimization as NumPy arrays.\n",
    "NumPy Array: NumPy arrays are optimized for numerical computations and provide faster performance for large datasets. Operations on NumPy arrays are implemented in C, which makes them much faster.\n",
    "\n",
    "3. Functionality\n",
    "List: Lists are more flexible and can be easily nested to create lists of lists. They provide many built-in methods for operations like appending, removing, or reversing elements.\n",
    "NumPy Array: NumPy arrays support a wide range of mathematical operations such as element-wise addition, multiplication, and other mathematical functions. They also support broadcasting, which allows operations between arrays of different shapes in a way that expands one of them to a compatible shape.\n",
    "\n",
    "4. Memory Usage\n",
    "List: Python lists are less memory efficient because they store references to objects rather than the objects themselves.\n",
    "NumPy Array: NumPy arrays are more memory-efficient because they store data in contiguous blocks of memory.\n",
    "\n",
    "5. Dimensionality\n",
    "List: Lists are one-dimensional, though you can create lists of lists (or higher dimensions) but with limitations.\n",
    "NumPy Array: NumPy arrays can be multi-dimensional, supporting matrices (2D arrays), tensors (3D arrays), and higher dimensions natively.\n",
    "\n",
    "6. Indexing and Slicing\n",
    "List: Lists support basic slicing and indexing but don’t support advanced slicing, fancy indexing, or conditional filtering.\n",
    "NumPy Array: NumPy arrays offer advanced indexing, including boolean indexing, slicing, and conditional filtering, which makes them more powerful for data manipulation.\n",
    "\n",
    "7. Usage\n",
    "List: Lists are used for general-purpose storage of heterogeneous data. They are commonly used in everyday programming tasks.\n",
    "NumPy Array: NumPy arrays are primarily used in scientific computing, data analysis, machine learning, and numerical computation tasks where performance is critical."
   ]
  },
  {
   "cell_type": "markdown",
   "id": "8d5e22c4",
   "metadata": {},
   "source": [
    "Q3.Find the shape, size and dimension of the following array?  [[1, 2, 3, 4]  [5, 6, 7, 8],  [9, 10, 11, 12]]   "
   ]
  },
  {
   "cell_type": "code",
   "execution_count": 2,
   "id": "d4a7e921",
   "metadata": {},
   "outputs": [
    {
     "name": "stdout",
     "output_type": "stream",
     "text": [
      "The shape of the array is (3, 4)\n",
      "The size of the array is 12\n",
      "The dimension of the array is 2\n"
     ]
    }
   ],
   "source": [
    "import numpy as np\n",
    "\n",
    "# Creating the array\n",
    "array = np.array([[1, 2, 3, 4], \n",
    "                  [5, 6, 7, 8], \n",
    "                  [9, 10, 11, 12]])\n",
    "\n",
    "# Finding shape, size, and dimension\n",
    "shape = array.shape      # Shape of the array\n",
    "size = array.size        # Total number of elements in the array\n",
    "dimension = array.ndim   # Number of dimensions of the array\n",
    "\n",
    "print(\"The shape of the array is\",shape)\n",
    "print(\"The size of the array is\",size)\n",
    "print(\"The dimension of the array is\",dimension)\n"
   ]
  },
  {
   "cell_type": "code",
   "execution_count": null,
   "id": "7a794d94",
   "metadata": {},
   "outputs": [],
   "source": [
    "Q4.Write python code to access the first row of the following array?  [[1, 2, 3, 4]  [5, 6, 7, 8],  [9, 10, 11, 12]]   "
   ]
  },
  {
   "cell_type": "code",
   "execution_count": 4,
   "id": "5510b6bb",
   "metadata": {},
   "outputs": [
    {
     "name": "stdout",
     "output_type": "stream",
     "text": [
      "The first row of the array is [1 2 3 4]\n"
     ]
    }
   ],
   "source": [
    "import numpy as np\n",
    "\n",
    "# Define the array\n",
    "arr = np.array([[1, 2, 3, 4], [5, 6, 7, 8], [9, 10, 11, 12]])\n",
    "\n",
    "# Access the first row\n",
    "first_row = arr[0]\n",
    "\n",
    "print(\"The first row of the array is\",first_row)"
   ]
  },
  {
   "cell_type": "markdown",
   "id": "aa7f6dde",
   "metadata": {},
   "source": [
    "Q5.How do you access the element at the third row and fourth column from the given numpy array?  [[1, 2, 3, 4]  [5, 6, 7, 8],  [9, 10, 11, 12]]  "
   ]
  },
  {
   "cell_type": "code",
   "execution_count": 7,
   "id": "be3d6446",
   "metadata": {},
   "outputs": [
    {
     "name": "stdout",
     "output_type": "stream",
     "text": [
      "The element at the third row and fourth column from the given numpy array is  12\n"
     ]
    }
   ],
   "source": [
    "import numpy as np\n",
    "\n",
    "# Define the array\n",
    "arr = np.array([[1, 2, 3, 4], [5, 6, 7, 8], [9, 10, 11, 12]])\n",
    "\n",
    "# Access the element at the third row and fourth column\n",
    "element = arr[2, 3]\n",
    "\n",
    "print(\"The element at the third row and fourth column from the given numpy array is \",element)\n"
   ]
  },
  {
   "cell_type": "markdown",
   "id": "1055d06c",
   "metadata": {},
   "source": [
    "Q6.Write code to extract all odd-indexed elements from the given numpy array?  [[1, 2, 3, 4]  [5, 6, 7, 8],  [9, 10, 11, 12]]"
   ]
  },
  {
   "cell_type": "code",
   "execution_count": 8,
   "id": "790e04e4",
   "metadata": {},
   "outputs": [
    {
     "name": "stdout",
     "output_type": "stream",
     "text": [
      "The odd indexed elements are:  [ 2  4  6  8 10 12]\n"
     ]
    }
   ],
   "source": [
    "import numpy as np\n",
    "\n",
    "# Define the array\n",
    "arr = np.array([[1, 2, 3, 4], [5, 6, 7, 8], [9, 10, 11, 12]])\n",
    "\n",
    "# Flatten the array into a 1D array\n",
    "flat_arr = arr.flatten()\n",
    "\n",
    "# Extract odd-indexed elements\n",
    "odd_indexed_elements = flat_arr[1::2]\n",
    "\n",
    "print(\"The odd indexed elements are: \",odd_indexed_elements)"
   ]
  },
  {
   "cell_type": "markdown",
   "id": "20e5767d",
   "metadata": {},
   "source": [
    "Q7.How can you generate a random 3x3 matrix with values between 0 and 1?  "
   ]
  },
  {
   "cell_type": "code",
   "execution_count": 9,
   "id": "18a510ab",
   "metadata": {},
   "outputs": [
    {
     "name": "stdout",
     "output_type": "stream",
     "text": [
      "[[0.09255547 0.18897655 0.71197533]\n",
      " [0.13337763 0.54193229 0.06448109]\n",
      " [0.15864769 0.56050019 0.6651959 ]]\n"
     ]
    }
   ],
   "source": [
    "import numpy as np\n",
    "\n",
    "# Generate a random 3x3 matrix with values between 0 and 1\n",
    "random_matrix = np.random.rand(3, 3)\n",
    "\n",
    "print(random_matrix)"
   ]
  },
  {
   "cell_type": "markdown",
   "id": "dbbc71f0",
   "metadata": {},
   "source": [
    "Q8.Describe the difference between np.random.rand and np.random.randn?"
   ]
  },
  {
   "cell_type": "markdown",
   "id": "8f7d77db",
   "metadata": {},
   "source": [
    "np.random.rand and np.random.randn are both functions in NumPy used to generate random numbers, but they differ in the distribution of the numbers they generate.\n",
    "\n",
    "1. np.random.rand\n",
    "Distribution: Generates random numbers from a uniform distribution over the interval [0, 1)\n",
    "Range:  All values will be between 0 (inclusive) and 1 (exclusive).\n",
    "Syntax: np.random.rand(d0, d1, ..., dn)\n",
    "Usage: Often used when you need random numbers within a specific range, typically [0, 1].\n",
    "\n",
    "2. np.random.randn\n",
    "Distribution: Generates random numbers from a standard normal distribution (also known as a Gaussian distribution) with a mean of 0 and a standard deviation of 1.\n",
    "Range: Values are centered around 0, with most values falling between -3 and 3, but not limited to any specific range.\n",
    "Syntax: np.random.randn(d0, d1, ..., dn)\n",
    "Usage: Often used in statistical modeling or when you need random numbers that follow a normal distribution.\n",
    "\n",
    "np.random.rand: Uniform distribution in the range [0, 1).\n",
    "np.random.randn: Normal distribution with a mean of 0 and standard deviation of 1."
   ]
  },
  {
   "cell_type": "code",
   "execution_count": null,
   "id": "79a5e6c5",
   "metadata": {},
   "outputs": [],
   "source": [
    "Q9.Write code to increase the dimension of the following array?  [[1, 2, 3, 4]  [5, 6, 7, 8],  [9, 10, 11, 12]]   "
   ]
  },
  {
   "cell_type": "code",
   "execution_count": 10,
   "id": "d13cbea9",
   "metadata": {},
   "outputs": [
    {
     "name": "stdout",
     "output_type": "stream",
     "text": [
      "[[[ 1  2  3  4]\n",
      "  [ 5  6  7  8]\n",
      "  [ 9 10 11 12]]]\n",
      "Shape of the new array: (1, 3, 4)\n"
     ]
    }
   ],
   "source": [
    "import numpy as np\n",
    "\n",
    "# Define the array\n",
    "arr = np.array([[1, 2, 3, 4], [5, 6, 7, 8], [9, 10, 11, 12]])\n",
    "\n",
    "# Increase the dimension of the array by adding a new axis\n",
    "# For example, adding a new axis at the beginning (axis=0)\n",
    "arr_expanded = np.expand_dims(arr, axis=0)\n",
    "\n",
    "print(arr_expanded)\n",
    "print(\"Shape of the new array:\", arr_expanded.shape)"
   ]
  },
  {
   "cell_type": "markdown",
   "id": "9df1e4a7",
   "metadata": {},
   "source": [
    "Q10.How to transpose the following array in NumPy?  [[1, 2, 3, 4]  [5, 6, 7, 8],  [9, 10, 11, 12]]  "
   ]
  },
  {
   "cell_type": "code",
   "execution_count": 12,
   "id": "9b3f181f",
   "metadata": {},
   "outputs": [
    {
     "name": "stdout",
     "output_type": "stream",
     "text": [
      "The given array is [[ 1  2  3  4]\n",
      " [ 5  6  7  8]\n",
      " [ 9 10 11 12]]\n",
      "The transposed array is [[ 1  5  9]\n",
      " [ 2  6 10]\n",
      " [ 3  7 11]\n",
      " [ 4  8 12]]\n"
     ]
    }
   ],
   "source": [
    "import numpy as np\n",
    "\n",
    "# Define the array\n",
    "arr = np.array([[1, 2, 3, 4], [5, 6, 7, 8], [9, 10, 11, 12]])\n",
    "\n",
    "# Transpose the array\n",
    "arr_transposed = np.transpose(arr)\n",
    "\n",
    "print(\"The given array is\",arr)\n",
    "print(\"The transposed array is\",arr_transposed)"
   ]
  },
  {
   "cell_type": "markdown",
   "id": "59dcbf8f",
   "metadata": {},
   "source": [
    "Q11.Consider the following matrix:  Matrix A: [[1, 2, 3, 4] [5, 6, 7, 8],[9, 10, 11, 12]]  Matrix B: [[1, 2, 3, 4] [5, 6, 7, 8],[9, 10, 11, 12]] \n",
    "\n",
    "Perform the following operation using Python \n",
    "Index wise multiplication \n",
    "Matrix multiplication \n",
    "Add both the matric \n",
    "Subtract matrix B from A\n",
    "Divide Matrix B by A   \n"
   ]
  },
  {
   "cell_type": "code",
   "execution_count": 13,
   "id": "1be826a9",
   "metadata": {},
   "outputs": [
    {
     "name": "stdout",
     "output_type": "stream",
     "text": [
      "Index-wise Multiplication:\n",
      " [[  1   4   9  16]\n",
      " [ 25  36  49  64]\n",
      " [ 81 100 121 144]]\n"
     ]
    }
   ],
   "source": [
    "import numpy as np\n",
    "\n",
    "# Define Matrix A and Matrix B\n",
    "A = np.array([[1, 2, 3, 4], [5, 6, 7, 8], [9, 10, 11, 12]])\n",
    "B = np.array([[1, 2, 3, 4], [5, 6, 7, 8], [9, 10, 11, 12]])\n",
    "\n",
    "# Index-wise multiplication\n",
    "index_wise_multiplication = A * B\n",
    "print(\"Index-wise Multiplication:\\n\", index_wise_multiplication)"
   ]
  },
  {
   "cell_type": "code",
   "execution_count": 14,
   "id": "4585d639",
   "metadata": {},
   "outputs": [
    {
     "name": "stdout",
     "output_type": "stream",
     "text": [
      "Matrix Multiplication:\n",
      " [[ 30  70 110]\n",
      " [ 70 174 278]\n",
      " [110 278 446]]\n"
     ]
    }
   ],
   "source": [
    "# Matrix multiplication\n",
    "matrix_multiplication = np.dot(A, B.T)\n",
    "print(\"Matrix Multiplication:\\n\", matrix_multiplication)"
   ]
  },
  {
   "cell_type": "code",
   "execution_count": 15,
   "id": "7baa5e0f",
   "metadata": {},
   "outputs": [
    {
     "name": "stdout",
     "output_type": "stream",
     "text": [
      "Addition:\n",
      " [[ 2  4  6  8]\n",
      " [10 12 14 16]\n",
      " [18 20 22 24]]\n"
     ]
    }
   ],
   "source": [
    "# Addition of both matrices\n",
    "addition = A + B\n",
    "print(\"Addition:\\n\", addition)"
   ]
  },
  {
   "cell_type": "code",
   "execution_count": 16,
   "id": "aa3518ef",
   "metadata": {},
   "outputs": [
    {
     "name": "stdout",
     "output_type": "stream",
     "text": [
      "Subtraction:\n",
      " [[0 0 0 0]\n",
      " [0 0 0 0]\n",
      " [0 0 0 0]]\n"
     ]
    }
   ],
   "source": [
    "# Subtraction of Matrix B from Matrix A\n",
    "subtraction = A - B\n",
    "print(\"Subtraction:\\n\", subtraction)"
   ]
  },
  {
   "cell_type": "code",
   "execution_count": 17,
   "id": "6863f7ed",
   "metadata": {},
   "outputs": [
    {
     "name": "stdout",
     "output_type": "stream",
     "text": [
      "Division:\n",
      " [[1. 1. 1. 1.]\n",
      " [1. 1. 1. 1.]\n",
      " [1. 1. 1. 1.]]\n"
     ]
    }
   ],
   "source": [
    "# Element-wise division of Matrix B by Matrix A\n",
    "# Ensure that no element in A is zero to avoid division by zero errors\n",
    "division = B / A\n",
    "print(\"Division:\\n\", division)"
   ]
  },
  {
   "cell_type": "markdown",
   "id": "0708bc38",
   "metadata": {},
   "source": [
    "Q12.Which function in Numpy can be used to swap the byte order of an array?"
   ]
  },
  {
   "cell_type": "markdown",
   "id": "d81df6c7",
   "metadata": {},
   "source": [
    "In NumPy, you can use the .byteswap() method to swap the byte order of an array. This method is used to convert the byte order of the elements in the array, which can be useful for compatibility with different hardware architectures or file formats."
   ]
  },
  {
   "cell_type": "code",
   "execution_count": 18,
   "id": "4d2d2c52",
   "metadata": {},
   "outputs": [
    {
     "name": "stdout",
     "output_type": "stream",
     "text": [
      "Original array: [  1 256   0]\n",
      "Original dtype: int16\n",
      "Swapped array: [  1 256   0]\n",
      "Swapped dtype: >i2\n"
     ]
    },
    {
     "name": "stderr",
     "output_type": "stream",
     "text": [
      "C:\\Users\\91798\\AppData\\Local\\Temp\\ipykernel_23424\\1061551182.py:4: DeprecationWarning: NumPy will stop allowing conversion of out-of-bound Python integers to integer arrays.  The conversion of 65536 to int16 will fail in the future.\n",
      "For the old behavior, usually:\n",
      "    np.array(value).astype(dtype)`\n",
      "will give the desired result (the cast overflows).\n",
      "  arr = np.array([1, 256, 65536], dtype=np.int16)\n"
     ]
    }
   ],
   "source": [
    "import numpy as np\n",
    "\n",
    "# Define an array with a specific byte order\n",
    "arr = np.array([1, 256, 65536], dtype=np.int16)\n",
    "\n",
    "# Print original array and its byte order\n",
    "print(\"Original array:\", arr)\n",
    "print(\"Original dtype:\", arr.dtype)\n",
    "\n",
    "# Swap byte order\n",
    "arr_swapped = arr.byteswap().newbyteorder()\n",
    "\n",
    "# Print the swapped array and its byte order\n",
    "print(\"Swapped array:\", arr_swapped)\n",
    "print(\"Swapped dtype:\", arr_swapped.dtype)"
   ]
  },
  {
   "cell_type": "code",
   "execution_count": null,
   "id": "74c8ed1f",
   "metadata": {},
   "outputs": [],
   "source": [
    "Q13.What is the significance of the np.linalg.inv function? "
   ]
  },
  {
   "cell_type": "markdown",
   "id": "0cc56580",
   "metadata": {},
   "source": [
    "The np.linalg.inv() function in NumPy is used to compute the inverse of a square matrix. The significance of the inverse of a matrix lies in its application to solving systems of linear equations, matrix equations, and other mathematical and engineering problems.\n",
    "\n",
    "Key Points of np.linalg.inv():\n",
    "Matrix Inverse:\n",
    "\n",
    "The inverse of a matrix \n",
    "𝐴\n",
    "A is a matrix \n",
    "𝐴\n",
    "−\n",
    "1\n",
    "A \n",
    "−1\n",
    "  such that when \n",
    "𝐴\n",
    "A is multiplied by \n",
    "𝐴\n",
    "−\n",
    "1\n",
    "A \n",
    "−1\n",
    " , it yields the identity matrix \n",
    "𝐼\n",
    "I: \n",
    "𝐴\n",
    "×\n",
    "𝐴\n",
    "−\n",
    "1\n",
    "=\n",
    "𝐼\n",
    "A×A \n",
    "−1\n",
    " =I.\n",
    "Applications:\n",
    "\n",
    "Solving Linear Systems: If you have a system of linear equations \n",
    "𝐴\n",
    "𝑥\n",
    "=\n",
    "𝑏\n",
    "Ax=b, where \n",
    "𝐴\n",
    "A is a square matrix, you can solve for \n",
    "𝑥\n",
    "x using \n",
    "𝑥\n",
    "=\n",
    "𝐴\n",
    "−\n",
    "1\n",
    "𝑏\n",
    "x=A \n",
    "−1\n",
    " b, provided \n",
    "𝐴\n",
    "A is invertible.\n",
    "Matrix Equations: In various problems involving matrix equations, the inverse is used to isolate and solve for unknown matrices.\n",
    "Requirement:\n",
    "\n",
    "The matrix \n",
    "𝐴\n",
    "A must be square (i.e., the number of rows must equal the number of columns) and invertible (i.e., its determinant must be non-zero) for np.linalg.inv() to compute the inverse. If the matrix is not invertible, np.linalg.inv() will raise a LinAlgError.\n",
    "Numerical Stability:\n",
    "\n",
    "Computing the matrix inverse can be numerically unstable for ill-conditioned matrices. In such cases, it is often better to use methods such as np.linalg.solve() for solving systems of linear equations, which can be more stable."
   ]
  },
  {
   "cell_type": "markdown",
   "id": "706373da",
   "metadata": {},
   "source": [
    "Q14.What does the np.reshape function do, and how is it used?"
   ]
  },
  {
   "cell_type": "markdown",
   "id": "1355639b",
   "metadata": {},
   "source": [
    "The np.reshape function in NumPy is used to change the shape or dimensions of an existing array without changing its data. It allows you to rearrange the data into a new shape as long as the total number of elements remains the same.\n",
    "\n",
    "Key Points of np.reshape:\n",
    "Purpose:\n",
    "\n",
    "Change Shape: Modify the shape of an array to different dimensions while preserving its data.\n",
    "Data Arrangement: Rearrange the data into a specified shape, which can be useful for different operations or algorithms that require specific input shapes.\n",
    "Requirements:\n",
    "\n",
    "Total Elements: The total number of elements in the original array must match the total number of elements in the reshaped array. If the new shape doesn’t match the total number of elements, NumPy will raise a ValueError.\n",
    "\n",
    "Syntax:\n",
    "np.reshape(a, newshape, order='C')\n",
    "\n"
   ]
  },
  {
   "cell_type": "markdown",
   "id": "545c7c4b",
   "metadata": {},
   "source": [
    "Q15.What is broadcasting in Numpy?  "
   ]
  },
  {
   "cell_type": "markdown",
   "id": "54128b94",
   "metadata": {},
   "source": [
    "Broadcasting in NumPy is a powerful mechanism that allows operations on arrays of different shapes and sizes to be performed element-wise without explicitly reshaping the arrays. It simplifies the process of working with arrays of different dimensions by automatically expanding smaller arrays to match the shape of larger ones.\n",
    "\n",
    "Key Concepts of Broadcasting:\n",
    "Basic Idea:\n",
    "\n",
    "Broadcasting allows NumPy to perform element-wise operations on arrays with different shapes. It works by \"stretching\" the smaller array across the larger array so that they have compatible shapes for the operation.\n",
    "Rules for Broadcasting: Broadcasting follows a set of rules to determine whether two arrays are compatible:\n",
    "\n",
    "Rule 1: If the arrays have a different number of dimensions, the shape of the smaller-dimensional array is padded with ones on the left side until both arrays have the same number of dimensions.\n",
    "Rule 2: For each dimension, the sizes of the two arrays must either be the same or one of them must be 1. If the sizes are different and neither is 1, broadcasting cannot be performed.\n",
    "How Broadcasting Works:\n",
    "\n",
    "When performing an operation on arrays with different shapes, NumPy tries to broadcast the arrays to a common shape. This involves expanding the smaller array along dimensions where it has size 1, so it matches the shape of the larger array.\n",
    "\n",
    "\n",
    "Broadcasting is a technique in NumPy that allows for element-wise operations on arrays of different shapes.\n",
    "Rules: The shapes of the arrays must be compatible based on specific broadcasting rules.\n",
    "Efficiency: Broadcasting avoids unnecessary memory usage by not actually replicating data but instead performing operations as if the smaller array were expanded.\n",
    "Broadcasting can simplify code and improve performance, especially when working with arrays of different dimensions in scientific computing and data analysis tasks."
   ]
  }
 ],
 "metadata": {
  "kernelspec": {
   "display_name": "Python 3 (ipykernel)",
   "language": "python",
   "name": "python3"
  },
  "language_info": {
   "codemirror_mode": {
    "name": "ipython",
    "version": 3
   },
   "file_extension": ".py",
   "mimetype": "text/x-python",
   "name": "python",
   "nbconvert_exporter": "python",
   "pygments_lexer": "ipython3",
   "version": "3.11.4"
  }
 },
 "nbformat": 4,
 "nbformat_minor": 5
}
